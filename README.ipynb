<div style="background-color:rgba(255, 255, 255); text-align:center">
<br>



![GitHub Streak](https://streak-stats.demolab.com?user=buetlerk&theme=sea&date_format=j%20M%5B%20Y%5D) <img src="https://avatars.githubusercontent.com/u/41376628?v=4" width="195" height="195" />


Supported by 


<img src="https://upload.wikimedia.org/wikipedia/commons/thumb/1/1b/R_logo.svg/1086px-R_logo.svg.png?20160212050515" height="50" hspace="20"/> 
<img src="https://upload.wikimedia.org/wikipedia/commons/thumb/f/f8/Python_logo_and_wordmark.svg/729px-Python_logo_and_wordmark.svg.png?20210516005643" height="50"/>
<img src="https://epito.bme.hu/sites/default/files/hirek/dh/matlab.png" height="60"/> 
<img src="https://cdn-icons-png.flaticon.com/512/332/332961.png" height="70"/>


![Visitor Badge](https://visitor-badge.laobi.icu/badge?page_id=buetlerk.buetlerk)
