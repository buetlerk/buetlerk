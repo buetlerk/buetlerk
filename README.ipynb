{
 "cells": [
  {
   "cell_type": "markdown",
   "metadata": {},
   "source": [
    "<div style=\"background-color:rgba(255, 255, 255); text-align:center\">\n",
    "<br>\n",
    "\n",
    "\n",
    "\n",
    "![GitHub Streak](https://streak-stats.demolab.com?user=buetlerk&theme=sea&date_format=j%20M%5B%20Y%5D) <img src=\"https://avatars.githubusercontent.com/u/41376628?v=4\" width=\"195\" height=\"195\" />\n",
    "\n",
    "\n",
    "Supported by \n",
    "\n",
    "\n",
    "<img src=\"https://upload.wikimedia.org/wikipedia/commons/thumb/1/1b/R_logo.svg/1086px-R_logo.svg.png?20160212050515\" height=\"50\" hspace=\"20\"/> \n",
    "<img src=\"https://upload.wikimedia.org/wikipedia/commons/thumb/f/f8/Python_logo_and_wordmark.svg/729px-Python_logo_and_wordmark.svg.png?20210516005643\" height=\"50\"/>\n",
    "<img src=\"https://epito.bme.hu/sites/default/files/hirek/dh/matlab.png\" height=\"60\"/> \n",
    "<img src=\"https://cdn-icons-png.flaticon.com/512/332/332961.png\" height=\"70\"/>\n",
    "\n",
    "\n",
    "![Visitor Badge](https://visitor-badge.laobi.icu/badge?page_id=buetlerk.buetlerk)"
   ]
  }
 ],
 "metadata": {
  "kernelspec": {
   "display_name": "Python 3.9.7 ('base')",
   "language": "python",
   "name": "python3"
  },
  "language_info": {
   "codemirror_mode": {
    "name": "ipython",
    "version": 3
   },
   "file_extension": ".py",
   "mimetype": "text/x-python",
   "name": "python",
   "nbconvert_exporter": "python",
   "pygments_lexer": "ipython3",
   "version": "3.9.7"
  },
  "orig_nbformat": 4,
  "vscode": {
   "interpreter": {
    "hash": "40acebcf5517dc44ec801cea8058ed54a59e8c85dd2c405e202d83753f84b49d"
   }
  }
 },
 "nbformat": 4,
 "nbformat_minor": 2
}
